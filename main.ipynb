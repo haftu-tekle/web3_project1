{
 "cells": [
  {
   "cell_type": "markdown",
   "id": "88e4eb0c",
   "metadata": {},
   "source": [
    "Setting up libraries"
   ]
  },
  {
   "cell_type": "code",
   "execution_count": 4,
   "id": "4dd98d79",
   "metadata": {},
   "outputs": [],
   "source": [
    "import hashlib\n",
    "import random\n",
    "import string\n",
    "import json\n",
    "import binascii\n",
    "import numpy as np\n",
    "import pandas as pd\n",
    "import pylab as pl\n",
    "import logging as pl\n",
    "import logging \n",
    "import datetime\n",
    "import collections\n"
   ]
  },
  {
   "cell_type": "markdown",
   "id": "bfcfb61c",
   "metadata": {},
   "source": [
    "Importing Crypto Library"
   ]
  },
  {
   "cell_type": "code",
   "execution_count": 5,
   "id": "336f7403",
   "metadata": {},
   "outputs": [],
   "source": [
    "import Crypto\n",
    "import Crypto.Random\n",
    "from Crypto.Hash import SHA\n",
    "from Crypto.PublicKey import RSA\n",
    "from Crypto.Random import get_random_bytes\n",
    "from Crypto.Signature import pkcs1_15\n",
    "\n"
   ]
  },
  {
   "cell_type": "markdown",
   "id": "6a7f67e0",
   "metadata": {},
   "source": [
    "Client Class"
   ]
  },
  {
   "cell_type": "code",
   "execution_count": 8,
   "id": "bffa96c8",
   "metadata": {},
   "outputs": [
    {
     "name": "stdout",
     "output_type": "stream",
     "text": [
      "63fd8e993ae94a7590101e04a5345ea11cc2b24b236f73351a8ecab468ac9372d43d7756357ef4161b5e488e0acfadc3e53ea9988af621923c82319b98b760817edcbf288c1280576d5750a48b6293965994258d20cd2918e9cce6d362d47a309fd3152b9d4d551e97a11c05483b72161a2d0af9a96c3b5eaa857a782785cff3\n"
     ]
    }
   ],
   "source": [
    "class Client:\n",
    "    def __init__(self):\n",
    "        random=Crypto.Random.new().read\n",
    "        self._private_key=RSA.generate(1024, random)\n",
    "        self._public_key=self._private_key.publickey()  \n",
    "        self._signer=pkcs1_15.new(self._private_key)\n",
    "    @property\n",
    "    def identity(self):\n",
    "        return binascii.hexlify(self._public_key.export_key('DER')).decode('ascii')\n",
    "    \n",
    "class Transaction:\n",
    "    def __init__(self, sender, recipient, value):\n",
    "        self.sender=sender\n",
    "        self.recipient=recipient\n",
    "        self.value=value\n",
    "        self.time=datetime.datetime.now()\n",
    "    def get_ordered_data(self):\n",
    "        if self.sender=='Genesis':\n",
    "            identity='Genesis'\n",
    "        else:\n",
    "            identity=self.sender.identity\n",
    "        return collections.OrderedDict({\n",
    "            'sender' : identity,\n",
    "            'recipient' : self.recipient,\n",
    "            'value' : self.value,\n",
    "            'time' : self.time\n",
    "        })\n",
    "    def sign_transaction(self):\n",
    "        private_key=self.sender._private_key\n",
    "        signer=pkcs1_15.new(private_key)\n",
    "        ha_sh = SHA.new(str(self.get_ordered_data()).encode('utf8'))        \n",
    "        return binascii.hexlify(signer.sign(ha_sh)).decode('ascii')\n",
    "yab=Client()\n",
    "abebe=Client()\n",
    "t=Transaction(\n",
    "    yab,\n",
    "    abebe.identity,\n",
    "    value=5.0\n",
    ")\n",
    "signature=t.sign_transaction()\n",
    "print(signature)\n",
    "        "
   ]
  },
  {
   "cell_type": "markdown",
   "id": "c9a7d18d",
   "metadata": {},
   "source": [
    "Transactioon Class"
   ]
  }
 ],
 "metadata": {
  "kernelspec": {
   "display_name": "web3venv",
   "language": "python",
   "name": "python3"
  },
  "language_info": {
   "codemirror_mode": {
    "name": "ipython",
    "version": 3
   },
   "file_extension": ".py",
   "mimetype": "text/x-python",
   "name": "python",
   "nbconvert_exporter": "python",
   "pygments_lexer": "ipython3",
   "version": "3.11.9"
  }
 },
 "nbformat": 4,
 "nbformat_minor": 5
}
