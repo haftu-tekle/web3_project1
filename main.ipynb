{
 "cells": [
  {
   "cell_type": "markdown",
   "id": "88e4eb0c",
   "metadata": {},
   "source": [
    "Setting up libraries"
   ]
  },
  {
   "cell_type": "code",
   "execution_count": 27,
   "id": "4dd98d79",
   "metadata": {},
   "outputs": [],
   "source": [
    "import hashlib\n",
    "import random\n",
    "import string\n",
    "import json\n",
    "import binascii\n",
    "import numpy as np\n",
    "import pandas as pd\n",
    "import pylab as pl\n",
    "import logging as pl\n",
    "import logging \n",
    "import datetime\n",
    "import collections\n"
   ]
  },
  {
   "cell_type": "markdown",
   "id": "bfcfb61c",
   "metadata": {},
   "source": [
    "Importing Crypto Library"
   ]
  },
  {
   "cell_type": "code",
   "execution_count": 28,
   "id": "336f7403",
   "metadata": {},
   "outputs": [],
   "source": [
    "import Crypto\n",
    "import Crypto.Random\n",
    "from Crypto.Hash import SHA\n",
    "from Crypto.PublicKey import RSA\n",
    "from Crypto.Random import get_random_bytes\n",
    "from Crypto.Signature import pkcs1_15\n",
    "\n"
   ]
  },
  {
   "cell_type": "markdown",
   "id": "6a7f67e0",
   "metadata": {},
   "source": [
    "Creating main class"
   ]
  },
  {
   "cell_type": "code",
   "execution_count": 29,
   "id": "bffa96c8",
   "metadata": {},
   "outputs": [],
   "source": [
    "transaction=[]\n",
    "\n",
    "class Client:\n",
    "    def __init__(self):\n",
    "        random=Crypto.Random.new().read\n",
    "        self._private_key=RSA.generate(1024, random)\n",
    "        self._public_key=self._private_key.publickey()  \n",
    "        self._signer=pkcs1_15.new(self._private_key)\n",
    "    @property\n",
    "    def identity(self):\n",
    "        return binascii.hexlify(self._public_key.export_key('DER')).decode('ascii')\n",
    "    \n",
    "class Transaction:\n",
    "    def __init__(self, sender, recipient, value):\n",
    "        self.sender=sender\n",
    "        self.recipient=recipient\n",
    "        self.value=value\n",
    "        self.time=datetime.datetime.now()\n",
    "    def get_ordered_data(self):\n",
    "        if self.sender=='Genesis':\n",
    "            identity='Genesis'\n",
    "        else:\n",
    "            identity=self.sender.identity\n",
    "        return collections.OrderedDict({\n",
    "            'sender' : identity,\n",
    "            'recipient' : self.recipient,\n",
    "            'value' : self.value,\n",
    "            'time' : self.time\n",
    "        })\n",
    "    def sign_transaction(self):\n",
    "        private_key=self.sender._private_key\n",
    "        signer=pkcs1_15.new(private_key)\n",
    "        ha_sh = SHA.new(str(self.get_ordered_data()).encode('utf8'))        \n",
    "        return binascii.hexlify(signer.sign(ha_sh)).decode('ascii')\n",
    "def display_transaction(transaction):\n",
    "    dict=transaction.get_ordered_data()\n",
    "    print('Sender' +dict['sender'])\n",
    "    print('----')\n",
    "    print('Recipient' + str( dict['recipient']))\n",
    "    print('Amount' + str(dict['value']))\n",
    "    print('----')\n",
    "    print('Time' + str(dict['time']))\n"
   ]
  },
  {
   "cell_type": "code",
   "execution_count": 30,
   "id": "0fbb0e45",
   "metadata": {},
   "outputs": [
    {
     "name": "stdout",
     "output_type": "stream",
     "text": [
      "Sender30819f300d06092a864886f70d010101050003818d0030818902818100e7de44c59e117ce9ef8801fb70a83a5b00b8f375120861e1417d1afa861f6eeb2f4a0cde9b76be3af80d514c9a325cfb3cd2fbe12b0afc4758ca844381df5788c50df04b5aefa2844c16e1c08eeb77bf55160b1cf1b65f39bbe580e53b3312f04153f14318874ff4f756d2d32290bda6a5a2f62fb3c75546150eec6d889f3eeb0203010001\n",
      "----\n",
      "Recipient30819f300d06092a864886f70d010101050003818d0030818902818100a4191f9d0617c03371ac6b20424556199960b777084c78d803bbcd868b8d2fa31b466db24ae3c2f5052caba0ffe79e47e36edbf09316f75461a6b289dae374221dc80f0eb7fb8daf8c3e4a6ce916a64695909b033c67264a18b063eea652523e3538e90a8d6ef1191f6d5b90391bbf10410db0d182eb72ec702453e8a35e1fbd0203010001\n",
      "Amount5.0\n",
      "----\n",
      "Time2025-05-30 07:16:15.362585\n",
      "-------------------------\n",
      "Sender30819f300d06092a864886f70d010101050003818d00308189028181009cd51c2bb97e9bf04fdf5641102f156ddaa0b4b307c252b90fcf952933dc19fae30ae417f6a1d88dd1bba4c966b28fd249563f690f16f17c6312f644a075e5cd1579f6203a1890bd23984343d8762e559a5960e3b018059c3248d2de49dd70e43b23fc4acad2c9577f426debb44cc31347daccac725ac4199d93615916dded290203010001\n",
      "----\n",
      "Recipient<property object at 0x0000022BB10B49A0>\n",
      "Amount20\n",
      "----\n",
      "Time2025-05-30 07:16:15.366581\n",
      "-------------------------\n"
     ]
    }
   ],
   "source": [
    "yab=Client()\n",
    "leul=Client()\n",
    "kal=Client()\n",
    "zeki=Client\n",
    "t1=Transaction(\n",
    "    yab,\n",
    "    leul.identity,\n",
    "    value=5.0\n",
    ")\n",
    "\n",
    "t1.sign_transaction()\n",
    "transaction.append(t1)\n",
    "t2=Transaction(\n",
    "    kal,\n",
    "    zeki.identity,\n",
    "    value=20\n",
    ")\n",
    "t2.sign_transaction()\n",
    "\n",
    "transaction.append(t2)\n",
    "\n",
    "for transaction in transaction:\n",
    "    display_transaction(transaction)\n",
    "    print('-------------------------')\n"
   ]
  },
  {
   "cell_type": "markdown",
   "id": "3261dce8",
   "metadata": {},
   "source": [
    "Block cLass"
   ]
  },
  {
   "cell_type": "code",
   "execution_count": 35,
   "id": "cc40ae61",
   "metadata": {},
   "outputs": [],
   "source": [
    "class Block:\n",
    "    def __init__(self):\n",
    "        self.previous_block_hash=''\n",
    "        self.verified_transaction=[]\n",
    "        self.Nonce=''\n",
    "\n",
    "    def dump_blockchain(self):\n",
    "        print('Number of blocks in the chain'+str(len(self)))\n",
    "\n",
    "\n",
    "    TEKLECoins=[]\n",
    "    last_block_hash=''\n",
    "    for x in range(len(TEKLECoins)):\n",
    "        block_temp=TEKLECoins[x]\n",
    "        print('block#'+str(x))\n",
    "\n",
    "t0=Transaction(\n",
    "    'Genesis',\n",
    "    yab.identity,\n",
    "    5000.0\n",
    ")\n",
    "\n",
    "\n",
    "\n",
    "\n",
    "block0 = Block()\n",
    "block0.previous_block_hash=None\n",
    "Nonce=None\n",
    "block0.verified_transaction.append(t0)\n",
    "digest=hash(block0)\n",
    "last_block_hash=digest\n",
    "        \n"
   ]
  },
  {
   "cell_type": "code",
   "execution_count": null,
   "id": "8639d655",
   "metadata": {},
   "outputs": [],
   "source": []
  }
 ],
 "metadata": {
  "kernelspec": {
   "display_name": "web3venv",
   "language": "python",
   "name": "python3"
  },
  "language_info": {
   "codemirror_mode": {
    "name": "ipython",
    "version": 3
   },
   "file_extension": ".py",
   "mimetype": "text/x-python",
   "name": "python",
   "nbconvert_exporter": "python",
   "pygments_lexer": "ipython3",
   "version": "3.11.9"
  }
 },
 "nbformat": 4,
 "nbformat_minor": 5
}
